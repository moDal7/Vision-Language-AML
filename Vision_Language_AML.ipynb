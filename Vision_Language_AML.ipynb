{
  "nbformat": 4,
  "nbformat_minor": 0,
  "metadata": {
    "colab": {
      "provenance": []
    },
    "kernelspec": {
      "name": "python3",
      "display_name": "Python 3"
    },
    "language_info": {
      "name": "python"
    },
    "accelerator": "GPU",
    "gpuClass": "standard"
  },
  "cells": [
    {
      "cell_type": "markdown",
      "source": [
        "# Clone repository"
      ],
      "metadata": {
        "id": "6bPr5BpXLxNc"
      }
    },
    {
      "cell_type": "code",
      "source": [
        "import os\n",
        "\n",
        "if not os.path.isdir(\"/content/Vision-Language-AML\"):\n",
        "  !git clone -b \"develop-constantin\" \"https://github.com/moDal7/Vision-Language-AML.git\"\n",
        "\n",
        "\n",
        "!echo \" \"\n",
        "!ls\n"
      ],
      "metadata": {
        "id": "H7uoN6aTMuaW",
        "colab": {
          "base_uri": "https://localhost:8080/"
        },
        "outputId": "0dc17df2-d6eb-4a51-c35d-538c67fdd1ef"
      },
      "execution_count": 1,
      "outputs": [
        {
          "output_type": "stream",
          "name": "stdout",
          "text": [
            "Cloning into 'Vision-Language-AML'...\n",
            "remote: Enumerating objects: 295, done.\u001b[K\n",
            "remote: Counting objects: 100% (216/216), done.\u001b[K\n",
            "remote: Compressing objects: 100% (95/95), done.\u001b[K\n",
            "remote: Total 295 (delta 119), reused 188 (delta 105), pack-reused 79\u001b[K\n",
            "Receiving objects: 100% (295/295), 171.77 KiB | 6.36 MiB/s, done.\n",
            "Resolving deltas: 100% (148/148), done.\n",
            " \n",
            "sample_data  Vision-Language-AML\n"
          ]
        }
      ]
    },
    {
      "cell_type": "markdown",
      "source": [
        "# Install"
      ],
      "metadata": {
        "id": "PJKo7NjteRPa"
      }
    },
    {
      "cell_type": "code",
      "source": [
        "!pip install -r \"/content/Vision-Language-AML/requirements.txt\""
      ],
      "metadata": {
        "colab": {
          "base_uri": "https://localhost:8080/"
        },
        "id": "fVgemfeMdzzN",
        "outputId": "431cdd22-5763-4594-97dc-4cdee399cf31"
      },
      "execution_count": 2,
      "outputs": [
        {
          "output_type": "stream",
          "name": "stdout",
          "text": [
            "Looking in indexes: https://pypi.org/simple, https://us-python.pkg.dev/colab-wheels/public/simple/\n",
            "Looking in links: https://download.pytorch.org/whl/torch_stable.html\n",
            "Collecting git+https://github.com/openai/CLIP.git (from -r /content/Vision-Language-AML/requirements.txt (line 7))\n",
            "  Cloning https://github.com/openai/CLIP.git to /tmp/pip-req-build-kc71taep\n",
            "  Running command git clone --filter=blob:none --quiet https://github.com/openai/CLIP.git /tmp/pip-req-build-kc71taep\n",
            "  Resolved https://github.com/openai/CLIP.git to commit 3702849800aa56e2223035bccd1c6ef91c704ca8\n",
            "  Preparing metadata (setup.py) ... \u001b[?25l\u001b[?25hdone\n",
            "Requirement already satisfied: torch==1.13.1 in /usr/local/lib/python3.8/dist-packages (from -r /content/Vision-Language-AML/requirements.txt (line 2)) (1.13.1+cu116)\n",
            "Requirement already satisfied: torchvision==0.14.1 in /usr/local/lib/python3.8/dist-packages (from -r /content/Vision-Language-AML/requirements.txt (line 3)) (0.14.1+cu116)\n",
            "Collecting ftfy==6.1.1\n",
            "  Downloading ftfy-6.1.1-py3-none-any.whl (53 kB)\n",
            "\u001b[2K     \u001b[90m━━━━━━━━━━━━━━━━━━━━━━━━━━━━━━━━━━━━━━━━\u001b[0m \u001b[32m53.1/53.1 KB\u001b[0m \u001b[31m1.6 MB/s\u001b[0m eta \u001b[36m0:00:00\u001b[0m\n",
            "\u001b[?25hCollecting regex==2022.9.13\n",
            "  Downloading regex-2022.9.13-cp38-cp38-manylinux_2_17_x86_64.manylinux2014_x86_64.whl (772 kB)\n",
            "\u001b[2K     \u001b[90m━━━━━━━━━━━━━━━━━━━━━━━━━━━━━━━━━━━━━━\u001b[0m \u001b[32m772.3/772.3 KB\u001b[0m \u001b[31m11.6 MB/s\u001b[0m eta \u001b[36m0:00:00\u001b[0m\n",
            "\u001b[?25hRequirement already satisfied: tqdm==4.64.1 in /usr/local/lib/python3.8/dist-packages (from -r /content/Vision-Language-AML/requirements.txt (line 6)) (4.64.1)\n",
            "Requirement already satisfied: typing-extensions in /usr/local/lib/python3.8/dist-packages (from torch==1.13.1->-r /content/Vision-Language-AML/requirements.txt (line 2)) (4.4.0)\n",
            "Requirement already satisfied: pillow!=8.3.*,>=5.3.0 in /usr/local/lib/python3.8/dist-packages (from torchvision==0.14.1->-r /content/Vision-Language-AML/requirements.txt (line 3)) (7.1.2)\n",
            "Requirement already satisfied: numpy in /usr/local/lib/python3.8/dist-packages (from torchvision==0.14.1->-r /content/Vision-Language-AML/requirements.txt (line 3)) (1.21.6)\n",
            "Requirement already satisfied: requests in /usr/local/lib/python3.8/dist-packages (from torchvision==0.14.1->-r /content/Vision-Language-AML/requirements.txt (line 3)) (2.25.1)\n",
            "Requirement already satisfied: wcwidth>=0.2.5 in /usr/local/lib/python3.8/dist-packages (from ftfy==6.1.1->-r /content/Vision-Language-AML/requirements.txt (line 4)) (0.2.5)\n",
            "Requirement already satisfied: idna<3,>=2.5 in /usr/local/lib/python3.8/dist-packages (from requests->torchvision==0.14.1->-r /content/Vision-Language-AML/requirements.txt (line 3)) (2.10)\n",
            "Requirement already satisfied: certifi>=2017.4.17 in /usr/local/lib/python3.8/dist-packages (from requests->torchvision==0.14.1->-r /content/Vision-Language-AML/requirements.txt (line 3)) (2022.12.7)\n",
            "Requirement already satisfied: urllib3<1.27,>=1.21.1 in /usr/local/lib/python3.8/dist-packages (from requests->torchvision==0.14.1->-r /content/Vision-Language-AML/requirements.txt (line 3)) (1.24.3)\n",
            "Requirement already satisfied: chardet<5,>=3.0.2 in /usr/local/lib/python3.8/dist-packages (from requests->torchvision==0.14.1->-r /content/Vision-Language-AML/requirements.txt (line 3)) (4.0.0)\n",
            "Building wheels for collected packages: clip\n",
            "  Building wheel for clip (setup.py) ... \u001b[?25l\u001b[?25hdone\n",
            "  Created wheel for clip: filename=clip-1.0-py3-none-any.whl size=1369408 sha256=db6ee90e9d9e7560beefe63cac7b17b07c7199e81c11c6069d14107f11b30fbb\n",
            "  Stored in directory: /tmp/pip-ephem-wheel-cache-dl770ihl/wheels/ab/4f/3a/5e51521b55997aa6f0690e095c08824219753128ce8d9969a3\n",
            "Successfully built clip\n",
            "Installing collected packages: regex, ftfy, clip\n",
            "  Attempting uninstall: regex\n",
            "    Found existing installation: regex 2022.6.2\n",
            "    Uninstalling regex-2022.6.2:\n",
            "      Successfully uninstalled regex-2022.6.2\n",
            "Successfully installed clip-1.0 ftfy-6.1.1 regex-2022.9.13\n"
          ]
        }
      ]
    },
    {
      "cell_type": "markdown",
      "source": [
        "# Download PACS"
      ],
      "metadata": {
        "id": "RPkEZP_lPbV8"
      }
    },
    {
      "cell_type": "code",
      "source": [
        "!pip install --upgrade --no-cache-dir gdown\n",
        "\n",
        "import gdown, os\n",
        "\n",
        "pacs= \"1RJJt1HmgxUjjYQwas1dJB_LEXfAxH26W\"\n",
        "pacsOut= \"/content/\"\n",
        "\n",
        "if not os.path.isdir(\"./PACS0\"):\n",
        "  gdown.download(id=pacs, output=pacsOut, quiet=False)\n",
        "  !unzip -q \"/content/PACS.zip\"\n",
        "  !rm -rf \"/content/__MACOSX\"\n",
        "  !rm -rf \"/content/PACS.zip\"\n",
        "  !cp -r \"/content/PACS/kfold\" \"/content/Vision-Language-AML/data/PACS\"\n",
        "  !rm -rf \"/content/PACS\"\n",
        "\n",
        "!ls -l \"/content/Vision-Language-AML/data/PACS\""
      ],
      "metadata": {
        "id": "GsPfPL0vJLWB",
        "colab": {
          "base_uri": "https://localhost:8080/"
        },
        "outputId": "c3e50c7d-fb67-4452-aeeb-b0e4cba23f76"
      },
      "execution_count": 3,
      "outputs": [
        {
          "output_type": "stream",
          "name": "stdout",
          "text": [
            "Looking in indexes: https://pypi.org/simple, https://us-python.pkg.dev/colab-wheels/public/simple/\n",
            "Requirement already satisfied: gdown in /usr/local/lib/python3.8/dist-packages (4.4.0)\n",
            "Collecting gdown\n",
            "  Downloading gdown-4.6.0-py3-none-any.whl (14 kB)\n",
            "Requirement already satisfied: six in /usr/local/lib/python3.8/dist-packages (from gdown) (1.15.0)\n",
            "Requirement already satisfied: requests[socks] in /usr/local/lib/python3.8/dist-packages (from gdown) (2.25.1)\n",
            "Requirement already satisfied: beautifulsoup4 in /usr/local/lib/python3.8/dist-packages (from gdown) (4.6.3)\n",
            "Requirement already satisfied: filelock in /usr/local/lib/python3.8/dist-packages (from gdown) (3.9.0)\n",
            "Requirement already satisfied: tqdm in /usr/local/lib/python3.8/dist-packages (from gdown) (4.64.1)\n",
            "Requirement already satisfied: urllib3<1.27,>=1.21.1 in /usr/local/lib/python3.8/dist-packages (from requests[socks]->gdown) (1.24.3)\n",
            "Requirement already satisfied: certifi>=2017.4.17 in /usr/local/lib/python3.8/dist-packages (from requests[socks]->gdown) (2022.12.7)\n",
            "Requirement already satisfied: idna<3,>=2.5 in /usr/local/lib/python3.8/dist-packages (from requests[socks]->gdown) (2.10)\n",
            "Requirement already satisfied: chardet<5,>=3.0.2 in /usr/local/lib/python3.8/dist-packages (from requests[socks]->gdown) (4.0.0)\n",
            "Requirement already satisfied: PySocks!=1.5.7,>=1.5.6 in /usr/local/lib/python3.8/dist-packages (from requests[socks]->gdown) (1.7.1)\n",
            "Installing collected packages: gdown\n",
            "  Attempting uninstall: gdown\n",
            "    Found existing installation: gdown 4.4.0\n",
            "    Uninstalling gdown-4.4.0:\n",
            "      Successfully uninstalled gdown-4.4.0\n",
            "Successfully installed gdown-4.6.0\n"
          ]
        },
        {
          "output_type": "stream",
          "name": "stderr",
          "text": [
            "Downloading...\n",
            "From: https://drive.google.com/uc?id=1RJJt1HmgxUjjYQwas1dJB_LEXfAxH26W\n",
            "To: /content/PACS.zip\n",
            "100%|██████████| 185M/185M [00:01<00:00, 167MB/s]\n"
          ]
        },
        {
          "output_type": "stream",
          "name": "stdout",
          "text": [
            "total 436\n",
            "-rw-r--r-- 1 root root  91321 Jan 29 20:51 art_painting.txt\n",
            "-rw-r--r-- 1 root root  93240 Jan 29 20:51 cartoon.txt\n",
            "drwxr-xr-x 6 root root   4096 Jan 29 20:51 kfold\n",
            "-rw-r--r-- 1 root root  67104 Jan 29 20:51 photo.txt\n",
            "-rw-r--r-- 1 root root 180950 Jan 29 20:51 sketch.txt\n"
          ]
        }
      ]
    },
    {
      "cell_type": "markdown",
      "source": [
        "# Change dir"
      ],
      "metadata": {
        "id": "Un-7z1BV-Bfj"
      }
    },
    {
      "cell_type": "code",
      "source": [
        "%cd \"/content/Vision-Language-AML/\""
      ],
      "metadata": {
        "colab": {
          "base_uri": "https://localhost:8080/"
        },
        "id": "o8D6AKA_id84",
        "outputId": "5e061990-1b67-4f35-e716-5387ac46b9b4"
      },
      "execution_count": 4,
      "outputs": [
        {
          "output_type": "stream",
          "name": "stdout",
          "text": [
            "/content/Vision-Language-AML\n"
          ]
        }
      ]
    },
    {
      "cell_type": "code",
      "source": [
        "!python main.py --experiment \"domain_disentangle\" --target_domain \"cartoon\" --max_iterations 1000\n"
      ],
      "metadata": {
        "colab": {
          "base_uri": "https://localhost:8080/"
        },
        "id": "vP6M1GoUi66F",
        "outputId": "82595035-c0b3-4273-db33-85258cc1d702"
      },
      "execution_count": 5,
      "outputs": [
        {
          "output_type": "stream",
          "name": "stdout",
          "text": [
            "Downloading: \"https://download.pytorch.org/models/resnet18-f37072fd.pth\" to /root/.cache/torch/hub/checkpoints/resnet18-f37072fd.pth\n",
            "100% 44.7M/44.7M [00:00<00:00, 81.8MB/s]\n",
            " 20% 1000/5000 [11:38<46:33,  1.43it/s]\n",
            "[TEST] Accuracy: 63.52\n"
          ]
        }
      ]
    },
    {
      "cell_type": "code",
      "source": [
        "#!rm -rf ./record"
      ],
      "metadata": {
        "id": "l1EK7VqfAf0m"
      },
      "execution_count": 6,
      "outputs": []
    }
  ]
}